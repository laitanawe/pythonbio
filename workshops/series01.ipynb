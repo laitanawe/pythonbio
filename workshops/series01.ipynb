{
  "nbformat": 4,
  "nbformat_minor": 0,
  "metadata": {
    "colab": {
      "provenance": []
    },
    "kernelspec": {
      "name": "python3",
      "display_name": "Python 3"
    },
    "language_info": {
      "name": "python"
    }
  },
  "cells": [
    {
      "cell_type": "markdown",
      "source": [
        "## Welcome to Python for Biologists\n",
        "\n",
        "## Todays agenda:\n",
        "\n",
        "- Introducing Python\n",
        "- Comments, Variables\n",
        "- Python Variable types\n",
        "- Strings\n",
        "- Q/A; Break\n",
        "- Operators\n",
        "- Python Numbers\n",
        "- Functions\n",
        "\n",
        "Section 1: Introducing Python:\n",
        "### What is Python? (And why should you learn it?)\n",
        "\n",
        "#### Data science has two main cultural influences: Math and Computer Science\n",
        "\n",
        "* Python is the preferred language for the 2nd of these cultures\n",
        "\n",
        "* Python is a powerful programming language\n",
        "\n",
        "* It (generally) respects the syntax preferences from computer science\n",
        "\n",
        "* It has many powerful champions in the machine learning space\n",
        "\n",
        "* It is popular with technology companies and a useful general purpose high level programming language\n",
        "\n",
        "* It's often early to market with tooling for processing very large datasets and related technologies\n",
        "\n",
        "## Why was Python created?\n",
        "\n",
        "Python is a high level language. The development of system administration utilities in C takes some time. Certain tasks don't work in the Bourne shell for a variety of reasons. Python is a language that bridges the gap between C and the shell. - Guido van Rossum (creator of the Python language).\n",
        "\n",
        "Section 2:\n",
        "COMMENTS:\n",
        "- Comments are lines of a Python script that you want Python to ignore\n",
        "- Comments are useful for writing notes to your future self about what you were thinking\n",
        "- Simple one line comments start with a `#`\n",
        "\n",
        "Python Variables\n",
        "\n",
        "A variable name can be composed of alphabets, numbers, and underscore characters e.g. name, age, height, color, cloud_vendors, AGE, _color.\n",
        "Variables cannot start with a number. Variable names cannot be ! or %. You cannot use python keywords like for, if, while, import.\n",
        "\n",
        "Indentation in Python\n",
        "\n",
        "In python, indentation has a special meaning and it is very important. Everything indented belongs to a block. If you just randomly indent statements and expressions, you will get an indentation error when you run the code."
      ],
      "metadata": {
        "id": "XJ8-MEUqZU1l"
      }
    },
    {
      "cell_type": "code",
      "source": [
        "name1 = \"John\"\n",
        "name2 = 'Smith'\n",
        "text1 = '''\n",
        "This is a multi-line text\n",
        "Another sentence can go here\n",
        "This is is a new sentence\n",
        "'''\n",
        "# This is a commented line and will be ignored\n",
        "# Let's make our own variable\n",
        "'''\n",
        "This will be ignored\n",
        "'''\n",
        "\"\"\"\n",
        "This will also be ignored\n",
        "\"\"\"\n",
        "myvariable = \"This is a fun workshop. We are learning data science!\" # this is an inline comment\n",
        "\n",
        "print(text1)\n",
        "print(myvariable)"
      ],
      "metadata": {
        "colab": {
          "base_uri": "https://localhost:8080/"
        },
        "id": "qXbpWTjDZSVO",
        "outputId": "fc04ffb5-3608-4187-c974-0d0e4fe7ac15"
      },
      "execution_count": 2,
      "outputs": [
        {
          "output_type": "stream",
          "name": "stdout",
          "text": [
            "\n",
            "This is a multi-line text\n",
            "Another sentence can go here\n",
            "This is is a new sentence\n",
            "\n",
            "This is a fun workshop. We are learning data science!\n"
          ]
        }
      ]
    },
    {
      "cell_type": "markdown",
      "source": [
        "Section 3:\n",
        "Python Variable Types\n",
        "\n",
        "Python is dynamically-typed. We do not have to specify the type of a variable or a function return value. Therefore, python automatically determines the type of a variable from the value type. We can create a variable of a specific type by using a class constructor.\n",
        "\n",
        "Here are some keywords and the corresponding type in python:\n",
        "complex: complex numbers,\n",
        "str: string values,\n",
        "bool: booleans,\n",
        "list: lists,\n",
        "tuple: tuples,\n",
        "range: ranges,\n",
        "dict: dictionaries,\n",
        "set: sets,\n",
        "\n",
        "\n"
      ],
      "metadata": {
        "id": "ofE_b1D9Ss2c"
      }
    },
    {
      "cell_type": "code",
      "execution_count": null,
      "metadata": {
        "id": "VmJadKzb7Jgh",
        "colab": {
          "base_uri": "https://localhost:8080/"
        },
        "outputId": "4861bb4d-3bbf-4bbf-972c-4506cb851fee"
      },
      "outputs": [
        {
          "output_type": "execute_result",
          "data": {
            "text/plain": [
              "True"
            ]
          },
          "metadata": {},
          "execution_count": 18
        }
      ],
      "source": [
        "mystring = \"This is good\"\n",
        "myint = 1\n",
        "myfloat = 32.8\n",
        "mybool = True\n",
        "height = 6\n",
        "newheight = 7\n",
        "\n",
        "print(type(mystring) == bool)\n",
        "print(type(mystring) == str)\n",
        "\n",
        "print(type(myint))\n",
        "print(type(myfloat))\n",
        "print(type(98.371))\n",
        "print(type(mybool))\n",
        "\n",
        "myfloat2 = float(myint)\n",
        "type(myfloat2)\n",
        "height2 = str(height)\n",
        "type(height2)\n",
        "\n",
        "print(\"My height is \", newheight)\n",
        "# You can only concatenate a string and a string. You cannot concatenate a string and an integer. The next line will throw an error if uncommented.\n",
        "#print(\"My height is almost \" + str(height) + \" feet\")\n",
        "\n",
        "# Is your variable an instance of an integer, float, string or boolean?\n",
        "isinstance(mystring, str)\n",
        "isinstance(mybool, bool)\n",
        "\n",
        "# You do not have to use a print statement for isinstance when running the code in a jupyter notebook like google colab.\n",
        "# You need the print statement when running a python script in a .py file\n",
        "print(isinstance(myint, int))\n",
        "print(isinstance(myfloat2, float))\n"
      ]
    },
    {
      "cell_type": "markdown",
      "source": [
        "Section 4:\n",
        "Python Strings\n",
        "\n",
        "A string is a python object which is enclosed in double quotes (\" \") or single quotes (' '). Strings have methods that can be used to manipulate them. Strings are immutable, so these string methods create new objects in the memory. Enclosing strings in double quotes (\" \") is better, especially if you have single quotes within your string.\n"
      ],
      "metadata": {
        "id": "8RTL8E9MF4Om"
      }
    },
    {
      "cell_type": "code",
      "source": [
        "firstname = \"James\"\n",
        "lastname = 'Watson'\n",
        "\n",
        "firstname2 = \"Francis\"\n",
        "lastname2 = 'Crick'\n",
        "example = \"Today's class is Python\"\n",
        "\n",
        "# String Concatenation\n",
        "fullname = firstname + \" \" + lastname\n",
        "fullname2 = firstname2 + \" \" + lastname2\n",
        "\n",
        "print(\"Full name: \" + fullname)\n",
        "print(\"In 1953, \" + fullname + \" and \" + fullname2 + \" discovered the double helix, the twisted-ladder structure of DNA.\")\n",
        "\n",
        "height = 5.8\n",
        "height1 = 5\n",
        "height2 = 6\n",
        "\n",
        "# A number can be converted to a string using the str class constructor.\n",
        "my_height = str(height)\n",
        "\n",
        "# my_height = my_height + \" is my height\"\n",
        "my_height += \" is my height\" # augmented assignment operator. This is the same as,\n",
        "#my_height = my_height + \" is my height\"\n",
        "\n",
        "print(my_height)\n",
        "\n",
        "# String Methods\n",
        "mystring = \"This is good\"\n",
        "# The isdigit() method returns True if all the characters in a string are digits, otherwise False.\n",
        "print(mystring.isdigit())\n",
        "# Find returns the index of the first occurence of a character in our string\n",
        "print(mystring.find('i'))\n",
        "print(mystring.find('good'))\n",
        "# Python is case-sensitive; there is no occurence of t in our string\n",
        "print(mystring.find('t'))\n",
        "print(mystring.find('T'))\n",
        "\n",
        "# Convert to Upper, Lower etc\n",
        "print(mystring.upper())\n",
        "print(mystring.lower())\n",
        "\n",
        "# Replace the character/phrase with another character\n",
        "print(mystring.replace('good', 'bad'))\n",
        "\n",
        "# fstring is a string-formatting method in python. It is supported by python 3.6+. fstring is for strings not user-generated.\n",
        "print(f\"My first name is {firstname} and my last name is {lastname}\")\n",
        "print(f\"{firstname} has grown taller by {height2-height1} foot in ten years!\")\n",
        "print(f\"The product of {height1} and {height2} is {height1*height2}!\")\n"
      ],
      "metadata": {
        "colab": {
          "base_uri": "https://localhost:8080/"
        },
        "id": "0P-f2h5KF4lB",
        "outputId": "24c4b77a-4581-4c40-8465-3549f530e292"
      },
      "execution_count": null,
      "outputs": [
        {
          "output_type": "stream",
          "name": "stdout",
          "text": [
            "Full name: James Watson\n",
            "In 1953, James Watson and Francis Crick discovered the double helix, the twisted-ladder structure of DNA.\n",
            "5.8 is my height\n",
            "False\n",
            "2\n",
            "8\n",
            "-1\n",
            "0\n",
            "THIS IS GOOD\n",
            "this is good\n",
            "This is bad\n",
            "My first name is James and my last name is Watson\n",
            "James has grown taller by 1 foot in ten years!\n",
            "The product of 5 and 6 is 30!\n"
          ]
        }
      ]
    },
    {
      "cell_type": "markdown",
      "source": [
        "Section 5: Operators\n",
        "\n",
        "In Python, an operator is a symbol that performs an operation on one or more operands."
      ],
      "metadata": {
        "id": "adougcTeacdW"
      }
    },
    {
      "cell_type": "code",
      "source": [
        "# Write a program that can sum up two numbers provided by the user\n",
        "first = input(\"Enter the first number: \")\n",
        "second = input(\"Enter the second number: \")\n",
        "sum = int(first) + int(second)\n",
        "print(f\"The sum of {first} and {second} is {sum}\")\n",
        "\n",
        "# Note that we used a class constructor in the above sum\n",
        "# Exercise: Find out what happens if the class constructor is not used\n",
        "\n",
        "# Other Operators: (+,-,*,/,**,%,//)\n",
        "a = 5\n",
        "b = 2\n",
        "print(a+b) # addition\n",
        "print(a-b) # subtraction\n",
        "print(a*b) # multiplication\n",
        "print(a/b) # division\n",
        "print(a**b) # exponential, a raised to power b\n",
        "print(a%b) # modulus, the remainder when a is divided by b\n",
        "print(a//b) # divide with integral result (discard remainder)"
      ],
      "metadata": {
        "colab": {
          "base_uri": "https://localhost:8080/"
        },
        "id": "FEa6_45Baek4",
        "outputId": "00df88d4-661f-46ed-c043-991c67c8b13c"
      },
      "execution_count": null,
      "outputs": [
        {
          "output_type": "stream",
          "name": "stdout",
          "text": [
            "7\n",
            "3\n",
            "10\n",
            "2.5\n",
            "25\n",
            "1\n",
            "2\n"
          ]
        }
      ]
    },
    {
      "cell_type": "markdown",
      "source": [
        "Section 6:\n",
        "Python Numbers\n",
        "\n",
        "\n",
        "In python, complex numbers must have a real part and an imaginary part. The imaginary part of the complex number must be written with a j-suffix\n",
        "\n",
        "Some built-in python functions can help with numbers. E.g. abs"
      ],
      "metadata": {
        "id": "qptwTIZYF17m"
      }
    },
    {
      "cell_type": "code",
      "source": [
        "# Complex numbers have a real part and an imaginary part which is written with a j-suffix\n",
        "mynum = 5j+8\n",
        "#number = complex(5,8)\n",
        "negative_float1 = -9.2\n",
        "negative_float2 = -9.52\n",
        "float3 = 11.5\n",
        "float4 = 11.49\n",
        "\n",
        "print(mynum.real, mynum.imag)\n",
        "print(int(mynum.real * mynum.imag))\n",
        "print(\"The absolute value of \" + str(negative_float1) + \" is \" + str(abs(negative_float1)))\n",
        "\n",
        "# The round function will round down the number if the decimal part is less than 5. If the decimal part is greater than 5, it rounds it up\n",
        "print(round(negative_float1))\n",
        "print(round(negative_float2))\n",
        "print(round(float3))\n",
        "print(round(float4))"
      ],
      "metadata": {
        "colab": {
          "base_uri": "https://localhost:8080/"
        },
        "id": "9_DbodRHF25a",
        "outputId": "26894aa4-8f22-451b-c4e0-980704f0f250"
      },
      "execution_count": null,
      "outputs": [
        {
          "output_type": "stream",
          "name": "stdout",
          "text": [
            "11\n"
          ]
        }
      ]
    },
    {
      "cell_type": "markdown",
      "source": [
        "Section 7:\n",
        "Python Functions\n",
        "\n",
        "A function is a set of code which only runs when it is called. With functions, a big program can be decomposed into manageable parts. It is important to name your functions in a descriptive way that will make you remember what the function does."
      ],
      "metadata": {
        "id": "8R3K38xoS0my"
      }
    },
    {
      "cell_type": "code",
      "source": [
        "# A function may be defined with no parameter\n",
        "def hello():\n",
        "    print(\"Hello is my first function!\")\n",
        "\n",
        "# When you define a function, it may accept one or more parameters\n",
        "def helloworld(user):\n",
        "    print(\"Hello \" + user)\n",
        "\n",
        "def sumcount(n):\n",
        "    '''\n",
        "    This function returns the sum of the first n integers\n",
        "    '''\n",
        "    total = 0\n",
        "    while n > 0:\n",
        "        total += n # add n to total in each iteration (augmented assignment operator also applies to -, * and other arithmetic operators.)\n",
        "        n -= 1  # decrement n by 1 in each iteration, This is the same as n = n - 1\n",
        "    return total\n",
        "\n",
        "# Each time we want to run a function, we must call it:\n",
        "hello()\n",
        "helloworld(\"Rosalind Franklin\")\n",
        "print(sumcount(15))\n",
        "\n",
        "## What happens if you run this function with no argument, helloworld() ? You get an error, missing 1 required positional argument\n",
        "\n",
        "# When you define a function, you can specify default parameters that will be used if an argument is not supplied.\n",
        "def helloworld(user=\"buddy!\"):\n",
        "    print(\"Hello \" + user)\n",
        "\n",
        "#Then call it with no argument.\n",
        "helloworld()\n",
        "helloworld(\"Watson\")\n",
        "\n",
        "#Some Inbuilt Python Functions\n",
        "animal1 = False\n",
        "animal2 = False\n",
        "# The any() function returns True if any item in an iterable are true, otherwise it returns False\n",
        "name_any_animal = any([animal1, animal2])\n",
        "\n",
        "mylist_object = [\"John\", \"blue\", True, 99, 278.5]\n",
        "\n",
        "print(name_any_animal)\n",
        "print(any(mylist_object))\n"
      ],
      "metadata": {
        "colab": {
          "base_uri": "https://localhost:8080/"
        },
        "id": "di9NNvNx0t9u",
        "outputId": "6a068d5c-326a-45f7-8704-aaf3b865b309"
      },
      "execution_count": 3,
      "outputs": [
        {
          "output_type": "stream",
          "name": "stdout",
          "text": [
            "Hello is my first function!\n",
            "Hello Rosalind Franklin\n",
            "120\n",
            "Hello buddy!\n",
            "Hello Watson\n",
            "False\n",
            "True\n"
          ]
        }
      ]
    }
  ]
}