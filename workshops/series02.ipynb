{
  "nbformat": 4,
  "nbformat_minor": 0,
  "metadata": {
    "colab": {
      "provenance": []
    },
    "kernelspec": {
      "name": "python3",
      "display_name": "Python 3"
    },
    "language_info": {
      "name": "python"
    }
  },
  "cells": [
    {
      "cell_type": "markdown",
      "source": [
        "## Welcome to Python for Biologists\n",
        "\n",
        "## Todays agenda:\n",
        "\n",
        "- Expressions and Statements\n",
        "- Comparison Operators\n",
        "- Conditional (if)\n",
        "- Memberships, in operator\n",
        "- Logical Operators\n",
        "- Lists\n",
        "- Loops (while and for)\n",
        "\n",
        "Section 1: Expressions and Statements:\n",
        "### What is a Python expression?\n",
        "\n",
        "* An expression is any code that returns a value e.g. 5+7, \"lesson\"\n",
        "\n",
        "## What is a Python statement?\n",
        "\n",
        "* A Python statement is operation on a value e.g. fname = \"Olaitan\"\n",
        "\n",
        "* A statement (generally) does something to the value\n",
        "\n",
        "* A series of statements in python is a program\n",
        "\n",
        "* Semi-colons can be used to delimit statements on a single line in python\n",
        "\n",
        "* A statement can be on a separate line (semi-colon is not needed)"
      ],
      "metadata": {
        "id": "8kRUw-fCu7Fk"
      }
    },
    {
      "cell_type": "code",
      "execution_count": null,
      "metadata": {
        "id": "-SjzQIHju2Yz",
        "colab": {
          "base_uri": "https://localhost:8080/"
        },
        "outputId": "574d7421-725b-4e70-cd76-c0fa182d4f22"
      },
      "outputs": [
        {
          "output_type": "stream",
          "name": "stdout",
          "text": [
            "The sum of 4 and 5 is 9\n"
          ]
        }
      ],
      "source": [
        "4+5\n",
        "\n",
        "fname = \"John\"\n",
        "sum=4+5\n",
        "print(sum); sum=4+5\n",
        "print(\"The sum of 4 and 5 is \" + str(sum))"
      ]
    },
    {
      "cell_type": "markdown",
      "source": [
        "Section 2:\n",
        "Comparison Operators:\n",
        "- We can compare if two things are equal, p == q\n",
        "- We can compare if two things are not equal, p != q\n",
        "- We can compare if something is greater than another, p > q\n",
        "- We can compare if something is less than another, p < q\n",
        "- We can compare if something is greater than or equal to another, p >= q\n",
        "- We can compare if something is less than or equal to another, p <= q\n"
      ],
      "metadata": {
        "id": "TPLR_kV5WhH2"
      }
    },
    {
      "cell_type": "code",
      "source": [
        "p = 15\n",
        "q = 8\n",
        "\n",
        "print(p == q) # False\n",
        "print(p != q) # True\n",
        "print(p > q) # False\n",
        "print(p < q) # True\n",
        "print(p >= q) # False\n",
        "print(p <= q) # True"
      ],
      "metadata": {
        "id": "oMfaxafGCBS4",
        "colab": {
          "base_uri": "https://localhost:8080/"
        },
        "outputId": "9e4e08b3-dc21-44e3-d761-d7cb5b659aaa"
      },
      "execution_count": null,
      "outputs": [
        {
          "output_type": "stream",
          "name": "stdout",
          "text": [
            "False\n",
            "True\n",
            "True\n",
            "False\n",
            "True\n",
            "False\n"
          ]
        }
      ]
    },
    {
      "cell_type": "markdown",
      "source": [
        "Section 3: Control Statements (Conditionals)\n",
        "\n",
        "Control statements are if statements.\n",
        "If condition is true, then we will run some piece of code.\n",
        "\n"
      ],
      "metadata": {
        "id": "bAqBHqLUEJYr"
      }
    },
    {
      "cell_type": "code",
      "source": [
        "condition = False\n",
        "height = 7.2\n",
        "dna_base = \"r\"\n",
        "\n",
        "if condition == True:\n",
        "  print(\"The condition is true\")\n",
        "else:\n",
        "  print(\"The condition is not true\")\n",
        "\n",
        "\n",
        "if height > 6:\n",
        "  print(\"That is a tall person\")\n",
        "  difference = height - 6\n",
        "  print(\"The difference is: \" + str(difference))\n",
        "else:\n",
        "  print(\"That is not a tall person\")\n",
        "  print(\"We don't need the difference here!\")\n",
        "\n",
        "weather = 81\n",
        "if weather > 75:\n",
        "  print(\"The day is hot\")\n",
        "else:\n",
        "  print(\"The day is not hot\")\n",
        "\n",
        "alignment = \"ACCTNNNGGTT\"\n",
        "alignment.find(\"N\")\n",
        "if alignment.find(\"N\") == True:\n",
        "  print(\"True\")\n",
        "else:\n",
        "  print(\"There is not a valid base in position \", alignment.find(\"N\"))\n",
        "\n",
        "if alignment.find(\"T\") == 3:\n",
        "  print(\"This is True\", alignment.find(\"T\"))\n",
        "else:\n",
        "  print(\"This is not true \", alignment.find(\"T\"))\n",
        "\n",
        "if alignment.find(\"CCT\") == 4:\n",
        "  print(\"The first occurence of CCT is 4\")\n",
        "  print(alignment.find(\"CCT\"))\n",
        "else:\n",
        "  print(\"The first occurence of CCT is not in position 4\")\n",
        "\n",
        "if alignment.find(\"T\") == 3:\n",
        "  print(\"True\"); print(alignment.find(\"T\"))\n",
        "\n",
        "\n",
        "dna_base = \"T\"\n",
        "if dna_base.upper() == \"A\":\n",
        "  print(\"That DNA base is Adenine\")\n",
        "elif dna_base.upper() == \"C\":\n",
        "  print(\"That DNA base is Cytosine\")\n",
        "elif dna_base.upper() == \"T\":\n",
        "  print(\"That DNA base is Thymine\")\n",
        "elif dna_base.upper() == \"G\":\n",
        "  print(\"That DNA base is Guanine\")\n",
        "else:\n",
        "  print(\"That is not a DNA base\")"
      ],
      "metadata": {
        "id": "JxX5cevQEGNo",
        "colab": {
          "base_uri": "https://localhost:8080/"
        },
        "outputId": "70966299-ce1c-4450-878f-a2705fba1d4a"
      },
      "execution_count": null,
      "outputs": [
        {
          "output_type": "stream",
          "name": "stdout",
          "text": [
            "The first occurence of CCT is not in position 4\n"
          ]
        }
      ]
    },
    {
      "cell_type": "markdown",
      "source": [
        "\n",
        "\n",
        "Section 4: Membership (in Operator)\n",
        "\n",
        "   - The in operator is a boolean that checks if an item or character is present in an object.\n",
        "   - We can check for membership of things in an object, and then run some statements based on the outcome\n",
        "\n"
      ],
      "metadata": {
        "id": "JCVZf8RfDhn1"
      }
    },
    {
      "cell_type": "code",
      "source": [
        "course = \"Python for Biologists\"\n",
        "print('Python' in course) # the result is a boolean value, True\n",
        "print('Perl' in course) # the result is a boolean value, False\n",
        "\n",
        "print('log' in course) # the result is a boolean value, True\n",
        "print('bio' in course) # the result is a boolean value, False\n",
        "print('Bio' in course) # the result is a boolean value, True\n",
        "\n",
        "# Ctr + Shift + Enter executes selected lines\n",
        "# Ctr + Enter executes the entire cell\n",
        "# Click on the play button to execute the entire cell.\n",
        "if ('Notebook' in course):\n",
        "  print(\"We're in a programming class\")\n",
        "else:\n",
        "  print(\"This is not a programming class\")"
      ],
      "metadata": {
        "colab": {
          "base_uri": "https://localhost:8080/"
        },
        "id": "PEm60yjbEGD0",
        "outputId": "5113c701-7d49-481d-ce51-b4d71019dc60"
      },
      "execution_count": null,
      "outputs": [
        {
          "output_type": "stream",
          "name": "stdout",
          "text": [
            "This is not a programming class\n"
          ]
        }
      ]
    },
    {
      "cell_type": "markdown",
      "source": [
        "\n",
        "\n",
        "Section 5: Logical Operators\n",
        "\n",
        "   - Logical operators are AND, NOT and OR.\n",
        "   - AND returns True if both operands are True\n",
        "   - OR returns True if at least one operand is true. OR returns the first operand that is not False or falsy.\n",
        "   - NOT inverts the boolean expression that we give it\n"
      ],
      "metadata": {
        "id": "qAmcyDW2vMG0"
      }
    },
    {
      "cell_type": "code",
      "source": [
        "condition1 = True\n",
        "condition2 = False\n",
        "\n",
        "# if (A and B and C)\n",
        "# if (not A)\n",
        "\n",
        "print(not condition1)# False\n",
        "print(condition1 and condition2) # True and False = False\n",
        "print(condition1 or condition2) # True or False = True\n",
        "\n",
        "price = 32\n",
        "print(price > 16 and price < 40) # True and True is True\n",
        "\n",
        "print(not price > 16) # False because this will invert True to False\n",
        "print(price > 16 or price < 40) # True or True is True"
      ],
      "metadata": {
        "colab": {
          "base_uri": "https://localhost:8080/"
        },
        "id": "g4jYCXqUvolu",
        "outputId": "6bd54073-e694-4b77-e502-fe73b0fa30ca"
      },
      "execution_count": null,
      "outputs": [
        {
          "output_type": "stream",
          "name": "stdout",
          "text": [
            "False\n",
            "False\n",
            "True\n",
            "True\n",
            "False\n",
            "True\n"
          ]
        }
      ]
    },
    {
      "cell_type": "markdown",
      "source": [
        "\n",
        "\n",
        "Section 6: Lists\n",
        "\n",
        "   - Lists are python data structures that allow you to group together multiple values\n",
        "   - The index of a Python list starts from zero\n",
        "   - List items are enclosed in square brackets\n",
        "   - List items are separated with a comma\n",
        "   - Lists can hold different types of values or data types in a single list\n",
        "   - A list can be empty\n",
        "   - A list can be sliced\n"
      ],
      "metadata": {
        "id": "2pKHCuwdvIxh"
      }
    },
    {
      "cell_type": "code",
      "source": [
        "cloud_vendors = [\"Google\", \"Amazon\", \"Azure\", \"Alibaba\", \"Oracle\"]\n",
        "even_numbers = [2,4,6,8]\n",
        "items = [\"Francis\",4,True,8.5]\n",
        "empty_list = []\n",
        "\n",
        "print(cloud_vendors[1])\n",
        "\n",
        "# Update a List\n",
        "cloud_vendors[2] = \"Microsoft Azure\"\n",
        "\n",
        "print(cloud_vendors)\n",
        "print(even_numbers)\n",
        "print(items)\n",
        "\n",
        "cloud_vendors = [\"Google\", \"Amazon\", \"Azure\", \"Alibaba\", \"Oracle\"]\n",
        "# Negative index\n",
        "# When using negative index, python goes to the end of the list and starts counting.\n",
        "print(\"The last cloud vendor in the list is \" + cloud_vendors[-1])\n",
        "# Use fstring to print out the last cloud vendor\n",
        "print(f\"The last cloud vendor in the list is {cloud_vendors[-1]}\")\n",
        "# How about using negative index to print the 2nd to the last cloud vendor?\n",
        "print(f\"The second to the last cloud vendor in the list is {cloud_vendors[-2]}\")\n",
        "# X is a number; What is X?\n",
        "print(f\"The nth item in the list, items is {items[-3]}\")\n",
        "\n",
        "# When an end index is specified for slicing, python will not include the item in the end index.\n",
        "# Let us slice the cloud_vendors list.\n",
        "# The following example will start from index 1 to 4 but not including 4.\n",
        "print(\"Slice 1:4 is \" + str(cloud_vendors[1:4]))\n",
        "# Let us slice from index 2 to the end of the list.\n",
        "print(\"Slice 2: is \" + str(cloud_vendors[2:]))\n",
        "# Let us slice from the beginning of the list to index 2 but not including 2.\n",
        "print(\"Slice :2 is \" + str(cloud_vendors[:2]))\n",
        "\n",
        "# cloud_vendors[:] is for the entire list i.e. no starting index and no ending index\n",
        "len(cloud_vendors[:])\n",
        "\n",
        "# List Methods\n",
        "# Length of a list\n",
        "print(\"Number of items in the cloud_vendors list is: \" + str(len(cloud_vendors[:])))\n",
        "print(cloud_vendors)\n",
        "\n",
        "p = \"IBM\"\n",
        "q = \"Tencent\"\n",
        "r = \"OVHcloud\"\n",
        "s = \"DigitalOcean\"\n",
        "t = \"Linode\"\n",
        "unsortedlist = [p,q,r,s,t]\n",
        "# Sort a list\n",
        "sortedlist = sorted(unsortedlist)\n",
        "print(\"My sorted list: \" + str(sortedlist))\n",
        "# My unsorted list is still unsorted\n",
        "print(\"My unsorted list: \" + str(unsortedlist))\n",
        "\n",
        "# The .sort method updates the unsorted list and it becomes sorted\n",
        "unsortedlist.sort() # The .sort method modifies the existing list.\n",
        "print(\"My unsorted list is now sorted: \" + str(unsortedlist))\n",
        "print(unsortedlist)\n",
        "\n",
        "# Append to a list\n",
        "cloud_vendors.append(p)\n",
        "print(\"Append value in p: \" + str(cloud_vendors))\n",
        "\n",
        "# Extend a list (Concatenation of a List l1 += [new_list])\n",
        "# Extend modifies the list content\n",
        "cloud_vendors.extend([q,s])\n",
        "print(\"Extend cloud vendors: \" + str(cloud_vendors))\n",
        "\n",
        "# Remove an item from a list\n",
        "cloud_vendors.remove(q)\n",
        "print(\"Remove from cloud vendors: \" + str(cloud_vendors))\n",
        "\n",
        "# Insert into cloud_vendors\n",
        "cloud_vendors.insert(3,r) # Specify the position where to insert the item, and then the item value\n",
        "print(\"Insert into cloud vendors: \" + str(cloud_vendors))\n",
        "\n",
        "# Make a copy of cloud_vendors\n",
        "mynewlist = cloud_vendors[:]\n",
        "print(\"My new list: \" + str(mynewlist))\n",
        "\n",
        "# Read about other list methods."
      ],
      "metadata": {
        "colab": {
          "base_uri": "https://localhost:8080/"
        },
        "id": "UwfY46e7zxWT",
        "outputId": "3ba8ae31-3138-42df-c446-42dc4e4c3977"
      },
      "execution_count": null,
      "outputs": [
        {
          "output_type": "stream",
          "name": "stdout",
          "text": [
            "My new list: ['Google', 'Amazon', 'Azure', 'OVHcloud', 'Alibaba', 'Oracle', 'IBM', 'DigitalOcean']\n"
          ]
        }
      ]
    },
    {
      "cell_type": "markdown",
      "source": [
        "\n",
        "\n",
        "Section 7: Loops\n",
        "\n",
        "   - while Loops are defined using the while keyword and the code inside the loop is executed in each iteration while the condition is true.\n",
        "   - for Loops\n"
      ],
      "metadata": {
        "id": "MrUUHAfU0Et0"
      }
    },
    {
      "cell_type": "code",
      "source": [
        "counter = 10\n",
        "\n",
        "while counter >=1 :\n",
        "  print(\"The counter is still greater than or equal to one\" + \" and the counter value is \" + str(counter))\n",
        "  counter -= 1\n",
        "# counter-= 1 is the same thing as counter = counter - 1\n",
        "\n",
        "while counter >1 :\n",
        "  print(\"The counter is still greater than one\" + \" and the counter value is \" + str(counter))\n",
        "  counter -= 1\n",
        "\n",
        "print(\"This is after the loop. The counter is now less than one\")\n",
        "\n",
        "even_numbers = [2,4,6,8]\n",
        "\n",
        "for number in even_numbers:\n",
        "  print(number)\n",
        "  print(\"Some string \" + str(number))\n",
        "\n",
        "# We can also use range (A range object is a sequence of integers).\n",
        "# Indexing is zero-based. By default, counting starts from zero.\n",
        "for r in range(10):\n",
        "  print(r)\n",
        "\n",
        "# We can also use three arguments in the range object (starting point, end number, steps)\n",
        "for r in range(0,10,2):\n",
        "  print(r)\n",
        "\n",
        "# We can also use three arguments in the range object (starting point, end number, steps)\n",
        "for r in range(0,7,2):\n",
        "  print(r)\n",
        "\n",
        "print()\n",
        "# We can also use range (A range object is a sequence of integers. Indexing is zero-based)\n",
        "# Let us perform addition using the fstring\n",
        "for r in range(5):\n",
        "  print(f\"{r+1}\")\n",
        "\n",
        "# Let us perform multiplication using the fstring\n",
        "for r in range(5):\n",
        "  print(f\"{r*2}\")\n",
        "\n",
        "newlist = [\"Francis\",4,True,8.5]\n",
        "# The enumerate function can be used to get the index and the item\n",
        "for index,item in enumerate(newlist):\n",
        "  print(index,item)\n",
        "\n",
        "# Continue skips the current item if the condition is true\n",
        "for index,item in enumerate(newlist):\n",
        "  if item == 4:\n",
        "    continue\n",
        "  print(index,item)\n",
        "\n",
        "newlist = [\"James\",4,True,8.5]\n",
        "# Break terminates the loop if the condition is true\n",
        "for index,item in enumerate(newlist):\n",
        "  if item == 4:\n",
        "    break\n",
        "  print(index,item)\n",
        "\n",
        "cloud_vendors = [\"Google\", \"Amazon\", \"Azure\", \"Alibaba\", \"Oracle\"]\n",
        "alignment = \"0123456789\"\n",
        "for vendor in cloud_vendors:\n",
        "  print(vendor)\n",
        "\n",
        "# if statement within the for loop\n",
        "alignment = \"ACCTNNNGGTT\"\n",
        "for char in alignment:\n",
        "  if char == \"N\":\n",
        "    print(\"Invalid DNA base at this location!\")\n",
        "  else:\n",
        "    print(char)\n"
      ],
      "metadata": {
        "id": "rFlfI8g00IsP",
        "colab": {
          "base_uri": "https://localhost:8080/"
        },
        "outputId": "2fb90a60-6d3a-4117-abfd-e60fdb39feb9"
      },
      "execution_count": null,
      "outputs": [
        {
          "output_type": "stream",
          "name": "stdout",
          "text": [
            "A\n",
            "C\n",
            "C\n",
            "T\n",
            "Invalid DNA base at this location!\n",
            "Invalid DNA base at this location!\n",
            "Invalid DNA base at this location!\n",
            "G\n",
            "G\n",
            "T\n",
            "T\n"
          ]
        }
      ]
    }
  ]
}