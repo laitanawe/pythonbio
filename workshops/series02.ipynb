{
  "nbformat": 4,
  "nbformat_minor": 0,
  "metadata": {
    "colab": {
      "provenance": []
    },
    "kernelspec": {
      "name": "python3",
      "display_name": "Python 3"
    },
    "language_info": {
      "name": "python"
    }
  },
  "cells": [
    {
      "cell_type": "markdown",
      "source": [
        "## Welcome to Python for Biologists\n",
        "\n",
        "## Todays agenda:\n",
        "\n",
        "- Expressions and Statements\n",
        "- Comparison Operators\n",
        "- Conditional (if)\n",
        "- Memberships, in operator\n",
        "- Logical Operators\n",
        "- Lists\n",
        "- Loops (while and for)\n",
        "\n",
        "Section 1: Expressions and Statements:\n",
        "### What is a Python expression?\n",
        "\n",
        "* An expression is any code that returns a value e.g. 5+7, \"lesson\"\n",
        "\n",
        "## What is a Python statement?\n",
        "\n",
        "* A Python statement is operation on a value e.g. fname = \"Olaitan\"\n",
        "\n",
        "* A statement (generally) does something to the value\n",
        "\n",
        "* A series of statements in python is a program\n",
        "\n",
        "* Semi-colons can be used to delimit statements on a single line in python\n",
        "\n",
        "* A statement can be on a separate line (semi-colon is not needed)"
      ],
      "metadata": {
        "id": "8kRUw-fCu7Fk"
      }
    },
    {
      "cell_type": "code",
      "execution_count": 4,
      "metadata": {
        "id": "-SjzQIHju2Yz",
        "colab": {
          "base_uri": "https://localhost:8080/"
        },
        "outputId": "55a7ea25-1f66-4b11-e4bb-ac4bfe6f22e5"
      },
      "outputs": [
        {
          "output_type": "stream",
          "name": "stdout",
          "text": [
            "9\n",
            "The sum of 4 and 5 is 9\n"
          ]
        }
      ],
      "source": [
        "4+5\n",
        "\n",
        "fname = \"John\"\n",
        "sum=4+5\n",
        "print(sum)\n",
        "sum=4+5\n",
        "print(\"The sum of 4 and 5 is \" + str(sum))"
      ]
    },
    {
      "cell_type": "markdown",
      "source": [
        "Section 2:\n",
        "Comparison Operators:\n",
        "- We can compare if two things are equal, p == q\n",
        "- We can compare if two things are not equal, p != q\n",
        "- We can compare if something is greater than another, p > q\n",
        "- We can compare if something is less than another, p < q\n",
        "- We can compare if something is greater than or equal to another, p >= q\n",
        "- We can compare if something is less than or equal to another, p <= q\n"
      ],
      "metadata": {
        "id": "TPLR_kV5WhH2"
      }
    },
    {
      "cell_type": "code",
      "source": [
        "p = 5\n",
        "q = 8\n",
        "\n",
        "print(p == q) # False\n",
        "print(p != q) # True\n",
        "print(p > q) # False\n",
        "print(p < q) # True\n",
        "print(p >= q) # False\n",
        "print(p <= q) # True"
      ],
      "metadata": {
        "id": "oMfaxafGCBS4",
        "colab": {
          "base_uri": "https://localhost:8080/"
        },
        "outputId": "cfe93ebd-d796-4ebd-a611-c5ff63b59ce4"
      },
      "execution_count": null,
      "outputs": [
        {
          "output_type": "stream",
          "name": "stdout",
          "text": [
            "False\n",
            "True\n",
            "False\n",
            "True\n",
            "False\n",
            "True\n"
          ]
        }
      ]
    },
    {
      "cell_type": "markdown",
      "source": [
        "Section 3: Control Statements (Conditionals)\n",
        "\n",
        "Control statements are if statements.\n",
        "If condition is true, then we will run some piece of code.\n",
        "\n"
      ],
      "metadata": {
        "id": "bAqBHqLUEJYr"
      }
    },
    {
      "cell_type": "code",
      "source": [
        "condition = False\n",
        "height = 7.2\n",
        "dna_base = \"r\"\n",
        "\n",
        "if condition == True:\n",
        "  print(\"The condition is true\")\n",
        "else:\n",
        "  print(\"The condition is not true\")\n",
        "\n",
        "\n",
        "if height > 6:\n",
        "  print(\"That is a tall person\")\n",
        "else:\n",
        "  print(\"That is not a tall person\")\n",
        "\n",
        "weather = 81\n",
        "if weather > 75:\n",
        "  print(\"The day is hot\")\n",
        "else:\n",
        "  print(\"The day is not hot\")\n",
        "\n",
        "alignment = \"ACCTNNNGGTT\"\n",
        "\n",
        "if alignment.find(\"N\") == True:\n",
        "  print(\"True\")\n",
        "else:\n",
        "  print(\"There is not a valid base in position \", alignment.find(\"N\"))\n",
        "\n",
        "if dna_base.upper() == \"A\":\n",
        "  print(\"That DNA base is Adenine\")\n",
        "elif dna_base.upper() == \"C\":\n",
        "  print(\"That DNA base is Cytosine\")\n",
        "elif dna_base.upper() == \"T\":\n",
        "  print(\"That DNA base is Thymine\")\n",
        "elif dna_base.upper() == \"G\":\n",
        "  print(\"That DNA base is Guanine\")\n",
        "else:\n",
        "  print(\"That is not a DNA base\")"
      ],
      "metadata": {
        "id": "JxX5cevQEGNo",
        "colab": {
          "base_uri": "https://localhost:8080/"
        },
        "outputId": "71d05de8-aa16-4a88-d43e-2c41aec3dbc7"
      },
      "execution_count": null,
      "outputs": [
        {
          "output_type": "stream",
          "name": "stdout",
          "text": [
            "The condition is not true\n",
            "That is a tall person\n",
            "The day is hot\n",
            "There is not a valid base in position  4\n",
            "That is not a DNA base\n"
          ]
        }
      ]
    },
    {
      "cell_type": "markdown",
      "source": [
        "\n",
        "\n",
        "Section 4: Membership (in Operator)\n",
        "\n",
        "   - The in operator is a boolean that checks if an item or character is present in an object.\n",
        "   - We can check for membership of things in an object, and then run some statements based on the outcome\n",
        "\n"
      ],
      "metadata": {
        "id": "JCVZf8RfDhn1"
      }
    },
    {
      "cell_type": "code",
      "source": [
        "course = \"Python for Biologists\"\n",
        "print('Python' in course) # the result is a boolean value\n",
        "\n",
        "if ('Python' in course):\n",
        "  print(\"We're in a programming class\")\n",
        "else:\n",
        "  print(\"This is not a programming class\")"
      ],
      "metadata": {
        "colab": {
          "base_uri": "https://localhost:8080/"
        },
        "id": "PEm60yjbEGD0",
        "outputId": "b2d8d15f-1117-4542-db39-53093213ebd1"
      },
      "execution_count": null,
      "outputs": [
        {
          "output_type": "stream",
          "name": "stdout",
          "text": [
            "False\n",
            "This is not a programming class\n"
          ]
        }
      ]
    },
    {
      "cell_type": "markdown",
      "source": [
        "\n",
        "\n",
        "Section 5: Logical Operators\n",
        "\n",
        "   - Logical operators are AND, NOT and OR.\n",
        "   - AND returns True if both operands are True\n",
        "   - OR returns True if at least one operand is true. OR returns the first operand that is not False or falsy.\n",
        "   - NOT inverts the boolean expression that we give it\n"
      ],
      "metadata": {
        "id": "qAmcyDW2vMG0"
      }
    },
    {
      "cell_type": "code",
      "source": [
        "condition1 = True\n",
        "condition2 = False\n",
        "\n",
        "print(not condition1 )# False\n",
        "print(condition1 and condition2) # False\n",
        "print(condition1 or condition2) # True\n",
        "\n",
        "price = 32\n",
        "print(price > 16 and price < 40) # True\n",
        "\n",
        "print(not price > 16) # this will invert True to False\n",
        "print(price > 16 or price < 40) # True"
      ],
      "metadata": {
        "colab": {
          "base_uri": "https://localhost:8080/"
        },
        "id": "g4jYCXqUvolu",
        "outputId": "89eaec71-1062-4867-c5a7-058c995d7bac"
      },
      "execution_count": null,
      "outputs": [
        {
          "output_type": "stream",
          "name": "stdout",
          "text": [
            "False\n",
            "False\n",
            "True\n",
            "True\n",
            "False\n",
            "True\n"
          ]
        }
      ]
    },
    {
      "cell_type": "markdown",
      "source": [
        "\n",
        "\n",
        "Section 6: Lists\n",
        "\n",
        "   - Lists are python data structures that allow you to group together multiple values\n",
        "   - The index of a Python list starts from zero\n",
        "   - List items are enclosed in square brackets\n",
        "   - List items are separated with a comma\n",
        "   - Lists can hold different types of values or data types in a single list\n",
        "   - A list can be empty\n",
        "   - A list can be sliced\n"
      ],
      "metadata": {
        "id": "2pKHCuwdvIxh"
      }
    },
    {
      "cell_type": "code",
      "source": [
        "cloud_vendors = [\"Google\", \"Amazon\", \"Azure\", \"Alibaba\", \"Oracle\"]\n",
        "even_numbers = [2,4,6,8]\n",
        "items = [\"Francis\",4,True,8.5]\n",
        "empty_list = []\n",
        "\n",
        "print(cloud_vendors[1])\n",
        "\n",
        "# Update a List\n",
        "cloud_vendors[2] = \"Microsoft Azure\"\n",
        "\n",
        "print(cloud_vendors)\n",
        "print(even_numbers)\n",
        "print(items)\n",
        "\n",
        "# Negative index\n",
        "print(\"The last cloud vendor in the list is \" + cloud_vendors[-1])\n",
        "# How about 2nd to the last cloud vendor?\n",
        "\n",
        "# When an end index is specified for slicing, python does not include the end index.\n",
        "# Let us slice the cloud_vendors list. The following example will start from index 1 to 4 but not including 4.\n",
        "print(\"Slice 1:4 is \" + str(cloud_vendors[1:4]))\n",
        "# Let us slice from index 2 to the end of the list.\n",
        "print(\"Slice 2: is \" + str(cloud_vendors[2:]))\n",
        "# Let us slice from the beginning of the list to index 2 but not including 2.\n",
        "print(\"Slice :2 is \" + str(cloud_vendors[:2]))\n",
        "\n",
        "# List Methods\n",
        "# Length of a list\n",
        "print(\"Number of items in the list is: \" + str(len(cloud_vendors[:])))\n",
        "\n",
        "p = \"IBM\"\n",
        "q = \"Tencent\"\n",
        "r = \"OVHcloud\"\n",
        "s = \"DigitalOcean\"\n",
        "t = \"Linode\"\n",
        "unsortedlist = [p,q,r,s,t]\n",
        "# Sort a list\n",
        "sortedlist = sorted(unsortedlist)\n",
        "print(\"My sorted list: \" + str(sortedlist))\n",
        "print(\"My unsorted list: \" + str(unsortedlist))\n",
        "unsortedlist.sort()\n",
        "print(\"My unsorted list is now sorted: \" + str(unsortedlist))\n",
        "\n",
        "# Append to a list\n",
        "cloud_vendors.append(p)\n",
        "print(\"Append value in p: \" + str(cloud_vendors))\n",
        "\n",
        "# Extend a list (Concatenation of a List l1 += [new_list])\n",
        "# Extend modifies the list content\n",
        "cloud_vendors.extend([q,s])\n",
        "print(\"Extend cloud vendors: \" + str(cloud_vendors))\n",
        "\n",
        "# Extend a list (Concatenation of a List l1 += [new_list])\n",
        "cloud_vendors.remove(q)\n",
        "print(\"Remove from cloud vendors: \" + str(cloud_vendors))\n",
        "\n",
        "# Insert into cloud_vendors\n",
        "cloud_vendors.insert(3,r)\n",
        "print(\"Insert into cloud vendors: \" + str(cloud_vendors))\n",
        "\n",
        "# Make a copy of cloud_vendors\n",
        "mynewlist = cloud_vendors[:]\n",
        "print(\"My new list: \" + str(mynewlist))\n",
        "\n",
        "\n",
        "\n",
        "# Read about other list methods."
      ],
      "metadata": {
        "colab": {
          "base_uri": "https://localhost:8080/"
        },
        "id": "UwfY46e7zxWT",
        "outputId": "457495e1-c065-45b5-90f3-d297bcdd2bb2"
      },
      "execution_count": 3,
      "outputs": [
        {
          "output_type": "stream",
          "name": "stdout",
          "text": [
            "Amazon\n",
            "['Google', 'Amazon', 'Microsoft Azure', 'Alibaba', 'Oracle']\n",
            "[2, 4, 6, 8]\n",
            "['Francis', 4, True, 8.5]\n",
            "The last cloud vendor in the list is Oracle\n",
            "Slice 1:4 is ['Amazon', 'Microsoft Azure', 'Alibaba']\n",
            "Slice 2: is ['Microsoft Azure', 'Alibaba', 'Oracle']\n",
            "Slice :2 is ['Google', 'Amazon']\n",
            "Number of items in the list is: 5\n",
            "My sorted list: ['DigitalOcean', 'IBM', 'Linode', 'OVHcloud', 'Tencent']\n",
            "My unsorted list: ['IBM', 'Tencent', 'OVHcloud', 'DigitalOcean', 'Linode']\n",
            "My unsorted list is now sorted: ['DigitalOcean', 'IBM', 'Linode', 'OVHcloud', 'Tencent']\n",
            "Append value in p: ['Google', 'Amazon', 'Microsoft Azure', 'Alibaba', 'Oracle', 'IBM']\n",
            "Extend cloud vendors: ['Google', 'Amazon', 'Microsoft Azure', 'Alibaba', 'Oracle', 'IBM', 'Tencent', 'DigitalOcean']\n",
            "Remove from cloud vendors: ['Google', 'Amazon', 'Microsoft Azure', 'Alibaba', 'Oracle', 'IBM', 'DigitalOcean']\n",
            "Insert into cloud vendors: ['Google', 'Amazon', 'Microsoft Azure', 'OVHcloud', 'Alibaba', 'Oracle', 'IBM', 'DigitalOcean']\n",
            "My new list: ['Google', 'Amazon', 'Microsoft Azure', 'OVHcloud', 'Alibaba', 'Oracle', 'IBM', 'DigitalOcean']\n"
          ]
        }
      ]
    },
    {
      "cell_type": "markdown",
      "source": [
        "\n",
        "\n",
        "Section 7: Loops\n",
        "\n",
        "   - while Loops are defined using the while keyword and the code inside the loop is executed in each iteration while the condition is true.\n",
        "   - for Loops\n"
      ],
      "metadata": {
        "id": "MrUUHAfU0Et0"
      }
    },
    {
      "cell_type": "code",
      "source": [
        "counter = 10\n",
        "\n",
        "while counter >=1 :\n",
        "  print(\"The counter is still greater than one\")\n",
        "  counter -= 1\n",
        "\n",
        "print(\"The counter is now less than one\")\n",
        "\n",
        "even_numbers = [2,4,6,8]\n",
        "\n",
        "for number in even_numbers:\n",
        "  print(number)\n",
        "\n",
        "# We can also use range (A range object is a sequence of integers. Indexing is zero-based)\n",
        "for r in range(10):\n",
        "  print(r)\n",
        "\n",
        "newlist = [\"James\",4,True,8.5]\n",
        "# The enumerate function can be used to get the index and the item\n",
        "for index,item in enumerate(newlist):\n",
        "  print(index,item)\n",
        "\n",
        "# Continue\n",
        "for index,item in enumerate(newlist):\n",
        "  if item == 4:\n",
        "    continue\n",
        "  print(index,item)\n",
        "\n",
        "# Break\n",
        "for index,item in enumerate(newlist):\n",
        "  if item == 4:\n",
        "    break\n",
        "  print(index,item)\n",
        "\n",
        "cloud_vendors = [\"Google\", \"Amazon\", \"Azure\", \"Alibaba\", \"Oracle\"]\n",
        "alignment = \"0123456789\"\n",
        "for char in cloud_vendors:\n",
        "  print(char)\n",
        "\n",
        "alignment = \"ACCTNNNGGTT\"\n",
        "for char in alignment:\n",
        "  if char == \"N\":\n",
        "    print(char + \" is not a valid dna base\")\n",
        "  else:\n",
        "    print(char)\n"
      ],
      "metadata": {
        "id": "rFlfI8g00IsP",
        "colab": {
          "base_uri": "https://localhost:8080/"
        },
        "outputId": "cf6011ac-8dd6-46a8-bc83-3c79f1c719a3"
      },
      "execution_count": 2,
      "outputs": [
        {
          "output_type": "stream",
          "name": "stdout",
          "text": [
            "The counter is still greater than one\n",
            "The counter is still greater than one\n",
            "The counter is still greater than one\n",
            "The counter is still greater than one\n",
            "The counter is still greater than one\n",
            "The counter is still greater than one\n",
            "The counter is still greater than one\n",
            "The counter is still greater than one\n",
            "The counter is still greater than one\n",
            "The counter is still greater than one\n",
            "The counter is now less than one\n",
            "2\n",
            "4\n",
            "6\n",
            "8\n",
            "0\n",
            "1\n",
            "2\n",
            "3\n",
            "4\n",
            "5\n",
            "6\n",
            "7\n",
            "8\n",
            "9\n",
            "0 James\n",
            "1 4\n",
            "2 True\n",
            "3 8.5\n",
            "0 James\n",
            "2 True\n",
            "3 8.5\n",
            "0 James\n",
            "Google\n",
            "Amazon\n",
            "Azure\n",
            "Alibaba\n",
            "Oracle\n",
            "A\n",
            "C\n",
            "C\n",
            "T\n",
            "N is not a valid dna base\n",
            "N is not a valid dna base\n",
            "N is not a valid dna base\n",
            "G\n",
            "G\n",
            "T\n",
            "T\n"
          ]
        }
      ]
    }
  ]
}