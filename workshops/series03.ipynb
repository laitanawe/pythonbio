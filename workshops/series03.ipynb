{
  "nbformat": 4,
  "nbformat_minor": 0,
  "metadata": {
    "colab": {
      "provenance": []
    },
    "kernelspec": {
      "name": "python3",
      "display_name": "Python 3"
    },
    "language_info": {
      "name": "python"
    }
  },
  "cells": [
    {
      "cell_type": "markdown",
      "source": [
        "## Welcome to Python for Biologists\n",
        "\n",
        "## Todays agenda:\n",
        "\n",
        "- Tuples\n",
        "- Dictionaries\n",
        "- Dictionary Compressions\n",
        "- Sets\n",
        "- Lambda Functions\n",
        "- Maps\n",
        "- Filter\n",
        "- Reduce\n",
        "- List Compressions"
      ],
      "metadata": {
        "id": "NL7EzZ-HrJV2"
      }
    },
    {
      "cell_type": "markdown",
      "source": [
        "Section 1: Tuples\n",
        "\n",
        "   - Tuples allow you to create immutable groups of objects.\n",
        "   - Unlike lists, tuple items are enclosed in parenthesis.\n"
      ],
      "metadata": {
        "id": "XSW4GGH4qaAK"
      }
    },
    {
      "cell_type": "code",
      "source": [
        "mytuple = (\"this\", \"room\", \"is\", \"Current\")\n",
        "print(mytuple[0])\n",
        "print(mytuple[3])"
      ],
      "metadata": {
        "id": "c2drRn7SqaN7",
        "colab": {
          "base_uri": "https://localhost:8080/"
        },
        "outputId": "cdd8fd32-0968-45af-c9f4-ca45379e91fb"
      },
      "execution_count": 3,
      "outputs": [
        {
          "output_type": "stream",
          "name": "stdout",
          "text": [
            "this\n",
            "Current\n"
          ]
        }
      ]
    },
    {
      "cell_type": "markdown",
      "source": [
        "Section 2: Dictionaries\n",
        "\n",
        "   - Dictionaries in python are key-value pairs\n",
        "   - You can have an empty dictionary in python"
      ],
      "metadata": {
        "id": "V7IOLJ9uqm7K"
      }
    },
    {
      "cell_type": "code",
      "source": [
        "my_empty_dict = {} # Dictionaries use curly brackets\n",
        "# my_empty_list = [] # Lists use square brackets\n",
        "description = {\"fullname\": \"James Watson\", \"unit\": \"meters\", \"height\": 1.75}\n",
        "print(description[\"fullname\"])\n",
        "print(\"My approximate height is \" + str(description[\"height\"]))\n",
        "\n",
        "mydict = {'fname': 'Rosalind', 'lname': 'Franklin', 'color': 'blue', 'fruit': 'pineapple', 'height': 5.8}\n",
        "#print(mydict['color'])\n",
        "#Normally, you should iterate over the keys of a dictionary.\n",
        "#This means that if you put a dictionary directly into a for loop, Python will automatically get an iterator over its keys:\n",
        "\n",
        "for key in mydict:\n",
        "   print(key)\n",
        "\n",
        "for key in mydict:\n",
        "   print(mydict[key])\n",
        "\n",
        "#You can process the keys and values of any dictionary by using\n",
        "# the indexing operator [] with the dictionary and its keys to get access to the values:\n",
        "\n",
        "for key in mydict:\n",
        "   print(key, '->', mydict[key])\n",
        "\n",
        "newdict = {\"drinks\": [\"mango juice\", \"guava juice\", \"orange juice\"], \"meat\": \"chicken\"} # List indexing starts from 0\n",
        "print(newdict[\"drinks\"][0]) # This will print out mango juice\n",
        "print(newdict[\"meat\"])\n",
        "print(newdict[\"drinks\"][2]) # This will print out orange juice"
      ],
      "metadata": {
        "id": "EO4649tQq1YM",
        "colab": {
          "base_uri": "https://localhost:8080/"
        },
        "outputId": "04021d41-1e1c-451c-a529-42d8cb4a60aa"
      },
      "execution_count": 4,
      "outputs": [
        {
          "output_type": "stream",
          "name": "stdout",
          "text": [
            "James Watson\n",
            "My approximate height is 1.75\n",
            "fname\n",
            "lname\n",
            "color\n",
            "fruit\n",
            "height\n",
            "Rosalind\n",
            "Franklin\n",
            "blue\n",
            "pineapple\n",
            "5.8\n",
            "fname -> Rosalind\n",
            "lname -> Franklin\n",
            "color -> blue\n",
            "fruit -> pineapple\n",
            "height -> 5.8\n",
            "mango juice\n",
            "chicken\n",
            "orange juice\n"
          ]
        }
      ]
    },
    {
      "cell_type": "markdown",
      "source": [
        "\n",
        "Section 3: Dictionary Comprehensions\n",
        "\n",
        "   - Python allows dictionary comprehensions. A dictionary comprehension takes the form {key: value for (key, value) in iterable}"
      ],
      "metadata": {
        "id": "Dfe0gbIjK-K2"
      }
    },
    {
      "cell_type": "code",
      "source": [
        "# Python code to demonstrate dictionary\n",
        "# We are creating a dictionary from a list of odd integers from 1 to 9\n",
        "myintDict = {x: x**2 for x in [1,3,5,7,9]} # {1:1, 3:9, 5:25, 7:49, 9:81}\n",
        "print (myintDict)\n",
        "\n",
        "myintDict2 = {str(x): x**2 for x in [1,3,5,7,9]} # {\"1\":1, \"3\":9, \"5\":25, \"7\":49, \"9\":81}\n",
        "print (myintDict2)\n",
        "\n",
        "# We are creating a dictionary from a list of string characters from the word 'childrens'\n",
        "mysDict1 = {x.upper(): x*3 for x in 'childrens'} # e.g the first item is 'C': 'ccc'\n",
        "print (mysDict1)\n",
        "\n",
        "# Here is an example that is different\n",
        "# Each item in the created dictionary is unique\n",
        "mysDict2 = {x.upper(): x*3 for x in 'data science'}\n",
        "print (mysDict2)\n",
        "\n",
        "# Dictionary comprehension using if statements.\n",
        "# Include an item in the dictionary if x^4 is not an even number\n",
        "# Note that we are moving in steps of 3\n",
        "mynewdict = {x: x**4 for x in range(1, 20, 3) if x**4 % 2 != 0} # x is 1,4,7,10,13,16,19\n",
        "# When x is an even number, skip it.\n",
        "print(mynewdict)\n"
      ],
      "metadata": {
        "colab": {
          "base_uri": "https://localhost:8080/"
        },
        "id": "oi1YLW_gK_LY",
        "outputId": "f79269a5-ee7b-4936-db13-d8887fd3e41a"
      },
      "execution_count": 5,
      "outputs": [
        {
          "output_type": "stream",
          "name": "stdout",
          "text": [
            "{1: 1, 3: 9, 5: 25, 7: 49, 9: 81}\n",
            "{'1': 1, '3': 9, '5': 25, '7': 49, '9': 81}\n",
            "{'C': 'ccc', 'H': 'hhh', 'I': 'iii', 'L': 'lll', 'D': 'ddd', 'R': 'rrr', 'E': 'eee', 'N': 'nnn', 'S': 'sss'}\n",
            "{'D': 'ddd', 'A': 'aaa', 'T': 'ttt', ' ': '   ', 'S': 'sss', 'C': 'ccc', 'I': 'iii', 'E': 'eee', 'N': 'nnn'}\n",
            "{1: 1, 7: 2401, 13: 28561, 19: 130321}\n"
          ]
        }
      ]
    },
    {
      "cell_type": "markdown",
      "source": [
        "\n",
        "Section 4: Sets\n",
        "\n",
        "   - Sets are unordered mutable tuples bold text\n",
        "   - Sets don't have key-value pairs but they are also enclosed in curly brackets { }\n",
        "   - A set can only have one of each item in the set. Each item is unique in value.\n"
      ],
      "metadata": {
        "id": "P8uDCGzoq5zY"
      }
    },
    {
      "cell_type": "code",
      "source": [
        "set1 = {\"James\", \"Watson\"}\n",
        "set2 = {\"James\", \"Watson\", \"Rosalind\"}\n",
        "# Intersection\n",
        "print(set1 & set2)\n",
        "# Union\n",
        "print(set1 | set2)\n",
        "# Difference\n",
        "set3=set2-set1\n",
        "print(set3)\n",
        "# Superset\n",
        "set1 > set2 # boolean to check if set1 is greater than set2\n",
        "# Subset\n",
        "set1 < set2 # boolean to check if set1 is less than set2\n",
        "# Turn a set into a list\n",
        "print(set1) # Print set1 as a set\n",
        "print(list(set1)) # Print set1 as a list"
      ],
      "metadata": {
        "id": "ZeyCTnw0q6fC",
        "colab": {
          "base_uri": "https://localhost:8080/"
        },
        "outputId": "55cdde23-5732-4d54-f2dc-c4319e0db704"
      },
      "execution_count": 6,
      "outputs": [
        {
          "output_type": "stream",
          "name": "stdout",
          "text": [
            "{'James', 'Watson'}\n",
            "{'James', 'Watson', 'Rosalind'}\n",
            "{'Rosalind'}\n",
            "{'James', 'Watson'}\n",
            "['James', 'Watson']\n"
          ]
        }
      ]
    },
    {
      "cell_type": "markdown",
      "source": [
        "Section 5: Lambda Functions\n",
        "\n",
        "Lambda Functions are small functions with no name but a single expression in their body. Python lambda can be used with multiple arguments and these arguments are used in evaluating an expression to return a single value."
      ],
      "metadata": {
        "id": "x43ZnexfC9BT"
      }
    },
    {
      "cell_type": "code",
      "source": [
        "# Create a lambda function that takes the product of two variables and multiples it by 2\n",
        "duplicate = lambda p,q : p * q * 2\n",
        "print(duplicate(3,5))\n",
        "\n",
        "quadratic = lambda x,y : x**2 + x*y + y**2\n",
        "print(quadratic(6,8))"
      ],
      "metadata": {
        "colab": {
          "base_uri": "https://localhost:8080/"
        },
        "id": "ndj_0y8eC783",
        "outputId": "401b3cc4-f516-4d6e-f0c0-b8346e315875"
      },
      "execution_count": 7,
      "outputs": [
        {
          "output_type": "stream",
          "name": "stdout",
          "text": [
            "30\n",
            "148\n"
          ]
        }
      ]
    },
    {
      "cell_type": "markdown",
      "source": [
        "Section 6: Maps\n",
        "\n",
        "A python map takes a function and applies that function to each item in an iterable (like a list). That function could be a regular python function and it could be a lambda function. When you want to run a function on each item in a list, you can just use a map. It creates a new list while running that function per item. Note that a map returns a map object."
      ],
      "metadata": {
        "id": "vFzR-MfoE8DC"
      }
    },
    {
      "cell_type": "code",
      "source": [
        "numbers = [3,6,12,24]\n",
        "\n",
        "# Regular python function\n",
        "#def minusone(a):\n",
        "#  return a - 1\n",
        "#minusone(3)\n",
        "\n",
        "#result = map(minusone, numbers)\n",
        "#print(list(result))\n",
        "\n",
        "numbers = [3,6,12,24]\n",
        "# To do this as a lambda function:\n",
        "minusone = lambda p: p - 1\n",
        "lresult = map(minusone, numbers)\n",
        "#print(lresult)\n",
        "print(list(lresult)) # Print the result as a list so that we can see the items\n",
        "\n",
        "# To do this directly as a lambda function:\n",
        "lresult = map(lambda p: p - 1, numbers)\n",
        "print(list(lresult))"
      ],
      "metadata": {
        "colab": {
          "base_uri": "https://localhost:8080/"
        },
        "id": "YIWGDWtVGHHl",
        "outputId": "13f867b2-6025-4e5c-c288-a573183259f3"
      },
      "execution_count": 8,
      "outputs": [
        {
          "output_type": "stream",
          "name": "stdout",
          "text": [
            "[2, 5, 11, 23]\n",
            "[2, 5, 11, 23]\n"
          ]
        }
      ]
    },
    {
      "cell_type": "markdown",
      "source": [
        "Section 7: Filter\n",
        "\n",
        "A python filter takes an iterable and returns a filter object without some of the items in the original iterable.\n",
        "\n",
        "A filter applies a function to each item in an iterable (like a list). That filtering function could be a regular python function and it could be a lambda function. It creates a filtered list (a new list) while running that function per item. It can be used to filter a list based on a function."
      ],
      "metadata": {
        "id": "wbA20IwLa3rv"
      }
    },
    {
      "cell_type": "code",
      "source": [
        "numbers = [3,6,12,24]\n",
        "\n",
        "# Regular python function\n",
        "#def divisiblebytwo(a):\n",
        "#  return a % 2 == 0\n",
        "\n",
        "# Using a regular python function to filter\n",
        "def divisiblebytwo(a):\n",
        "  return True if a % 2 == 0 else False\n",
        "\n",
        "result = filter(divisiblebytwo, numbers)\n",
        "print(list(result))\n",
        "\n",
        "# Using a lambda function to filter\n",
        "divby2 = lambda a: a % 2 == 0\n",
        "\n",
        "# To do this directly as a lambda function:\n",
        "lresult = filter(divby2, numbers)\n",
        "print(list(lresult))"
      ],
      "metadata": {
        "colab": {
          "base_uri": "https://localhost:8080/"
        },
        "id": "Qr6qKrTHbAmo",
        "outputId": "79a6e667-3ea5-437a-fbf1-4f693f3d670b"
      },
      "execution_count": 9,
      "outputs": [
        {
          "output_type": "stream",
          "name": "stdout",
          "text": [
            "[6, 12, 24]\n",
            "[6, 12, 24]\n"
          ]
        }
      ]
    },
    {
      "cell_type": "markdown",
      "source": [
        "Section 8: Reduce\n",
        "\n",
        "Python reduce is used to calculate a value out of a sequence. For instance, it can calculate the sum of integers in a list of Tuples.\n",
        "\n"
      ],
      "metadata": {
        "id": "-B4yYEHSbBEL"
      }
    },
    {
      "cell_type": "code",
      "source": [
        "from functools import reduce\n",
        "\n",
        "mileages = [('Toyota', 28), ('Mercedes', 37)]\n",
        "\n",
        "total = reduce(lambda a, b: a[1] + b[1], mileages)\n",
        "print(\"Car Total: \" + str(total))\n",
        "\n",
        "# Another example\n",
        "mileages2 = [('Toyota', 28), ('Mercedes', 37), ('Kia', 22)]\n",
        "total2 = 0\n",
        "for i in range(len(mileages2)):\n",
        "  total2 += mileages2[i][1]\n",
        "print(mileages2[0][1])\n",
        "print(\"Car Total2: \" + str(total2))\n",
        "\n",
        "# The long way of doing this is:\n",
        "total = 0\n",
        "for mileage in mileages:\n",
        "  total += mileage[1]\n",
        "\n",
        "print(\"Car Total: \" + str(total))"
      ],
      "metadata": {
        "colab": {
          "base_uri": "https://localhost:8080/"
        },
        "id": "ZsVrEBK8baMx",
        "outputId": "2a637e33-04ce-4726-92c2-ec724216cff2"
      },
      "execution_count": 10,
      "outputs": [
        {
          "output_type": "stream",
          "name": "stdout",
          "text": [
            "Car Total: 65\n",
            "28\n",
            "Car Total2: 87\n",
            "Car Total: 65\n"
          ]
        }
      ]
    },
    {
      "cell_type": "markdown",
      "source": [
        "Section 9: List Compressions\n",
        "\n",
        "List comprehensions in python are similar to dictionary comprehensions. Python list compressions can be used to make new lists in a more concise way."
      ],
      "metadata": {
        "id": "e_gQ8qlFbbMe"
      }
    },
    {
      "cell_type": "code",
      "source": [
        "numbers = [2,4,8,16]\n",
        "\n",
        "# List comprehension\n",
        "lresult = [a-1 for a in numbers]\n",
        "print(lresult)\n",
        "\n",
        "# Lamba function way of doing the same task as above\n",
        "compression = lambda x : x - 1\n",
        "print(list(map(compression, numbers)))\n",
        "\n",
        "# Multiply each number in the original list by 2\n",
        "ldouble = [a*2 for a in numbers]\n",
        "print(ldouble)\n",
        "\n",
        "numbers = [2,4,8,16]\n",
        "# The longer method\n",
        "lresult = []\n",
        "for i in numbers:\n",
        "  lresult.append(i-1)\n",
        "print(lresult)\n",
        "\n",
        "listofchars=[\"Android\", True, 26, 3.8]\n",
        "\n",
        "print(listofchars[0], listofchars[1], listofchars[2], \"Franklin\", listofchars[3])\n",
        "\n",
        "print(listofchars[0] + str(listofchars[1]) + str(listofchars[2]) + str(listofchars[3]))\n",
        "\n",
        "print(listofchars[0] + \" \" + str(listofchars[1]) + \" \" + str(listofchars[2]) + \" \" + str(listofchars[3]))\n",
        "\n",
        "print(f\"{numbers[0]}\")"
      ],
      "metadata": {
        "colab": {
          "base_uri": "https://localhost:8080/"
        },
        "id": "TPdsVT_Fbgk4",
        "outputId": "2fdb3777-7a48-49a5-c7bc-ead46fd7b6ca"
      },
      "execution_count": 11,
      "outputs": [
        {
          "output_type": "stream",
          "name": "stdout",
          "text": [
            "[1, 3, 7, 15]\n",
            "[1, 3, 7, 15]\n",
            "[4, 8, 16, 32]\n",
            "[1, 3, 7, 15]\n",
            "Android True 26 Franklin 3.8\n",
            "AndroidTrue263.8\n",
            "Android True 26 3.8\n",
            "2\n"
          ]
        }
      ]
    }
  ]
}