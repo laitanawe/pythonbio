{
  "nbformat": 4,
  "nbformat_minor": 0,
  "metadata": {
    "colab": {
      "provenance": []
    },
    "kernelspec": {
      "name": "python3",
      "display_name": "Python 3"
    },
    "language_info": {
      "name": "python"
    }
  },
  "cells": [
    {
      "cell_type": "markdown",
      "source": [
        "## Welcome to Python for Biologists\n",
        "\n",
        "## Todays agenda:\n",
        "\n",
        "- Tuples\n",
        "- Dictionaries\n",
        "- Sets\n",
        "- Lambda Functions\n",
        "- Maps\n",
        "- Filter\n",
        "- Reduce\n",
        "- List Compressions"
      ],
      "metadata": {
        "id": "NL7EzZ-HrJV2"
      }
    },
    {
      "cell_type": "markdown",
      "source": [
        "Section 1: Tuples\n",
        "\n",
        "   - Tuples allow you to create immutable groups of objects.\n",
        "   - Unlike lists, tuple items are enclosed in parenthesis.\n"
      ],
      "metadata": {
        "id": "XSW4GGH4qaAK"
      }
    },
    {
      "cell_type": "code",
      "source": [
        "mytuple = (\"item1\", \"item2\")\n",
        "print(mytuple[1])"
      ],
      "metadata": {
        "id": "c2drRn7SqaN7"
      },
      "execution_count": null,
      "outputs": []
    },
    {
      "cell_type": "markdown",
      "source": [
        "Section 2: Dictionaries\n",
        "\n",
        "   - Dictionaries in python are key-value pairs\n",
        "   -"
      ],
      "metadata": {
        "id": "V7IOLJ9uqm7K"
      }
    },
    {
      "cell_type": "code",
      "source": [
        "description = {\"fullname\": \"Olaitan Awe\", \"unit\": \"meters\", \"height\": 1.75}\n",
        "print(description[\"fullname\"])\n",
        "\n",
        "mydict = {'fname': 'Olaitan', 'lname': 'Awe', 'color': 'blue', 'fruit': 'pineapple', 'height': 5.8}\n",
        "\n",
        "#Normally, you should iterate over the keys of a dictionary.\n",
        "#This means that if you put a dictionary directly into a for loop, Python will automatically get an iterator over its keys:\n",
        "\n",
        "for key in mydict:\n",
        "   print(key)\n",
        "\n",
        "#You can process the keys and values of any dictionary by using\n",
        "# the indexing operator [] with the dictionary and its keys to get access to the values:\n",
        "\n",
        "for key in mydict:\n",
        "   print(key, '->', mydict[key])"
      ],
      "metadata": {
        "id": "EO4649tQq1YM",
        "colab": {
          "base_uri": "https://localhost:8080/"
        },
        "outputId": "596bf099-f93a-4293-8efe-411192864925"
      },
      "execution_count": 5,
      "outputs": [
        {
          "output_type": "stream",
          "name": "stdout",
          "text": [
            "Olaitan Awe\n",
            "fname\n",
            "lname\n",
            "color\n",
            "fruit\n",
            "height\n",
            "fname -> Olaitan\n",
            "lname -> Awe\n",
            "color -> blue\n",
            "fruit -> pineapple\n",
            "height -> 5.8\n"
          ]
        }
      ]
    },
    {
      "cell_type": "markdown",
      "source": [
        "\n",
        "Section 3: Sets\n",
        "\n",
        "   - Sets are unordered mutable tuples\n",
        "   - Sets don't have key-value pairs but they are also enclosed in curly brackets { }\n",
        "   - A set can only have one of each item in the set. Each item is unique in value.\n"
      ],
      "metadata": {
        "id": "P8uDCGzoq5zY"
      }
    },
    {
      "cell_type": "code",
      "source": [
        "set1 = {\"Olaitan\", \"Awe\"}\n",
        "set2 = {\"Olaitan\", \"Ade\"}\n",
        "# Intersection\n",
        "print(set1 & set2)\n",
        "# Union\n",
        "print(set1 | set2)\n",
        "# Difference\n",
        "print(set1 - set2)\n",
        "# Superset\n",
        "set1 > set2\n",
        "# Subset\n",
        "set1 < set2\n",
        "# Turn a set into a list\n",
        "print(list(set1))"
      ],
      "metadata": {
        "id": "ZeyCTnw0q6fC"
      },
      "execution_count": null,
      "outputs": []
    },
    {
      "cell_type": "markdown",
      "source": [
        "Section 4: Lambda Functions\n",
        "\n",
        "Lambda Functions are small functions with no name but a single expression in their body. Python lambda can be used with multiple arguments and these arguments are used in evaluating an expression to return a single value."
      ],
      "metadata": {
        "id": "x43ZnexfC9BT"
      }
    },
    {
      "cell_type": "code",
      "source": [
        "# Create a lambda function that takes the product of two variables and multiples it by 2\n",
        "duplicate = lambda p,q : p * q * 2\n",
        "print(duplicate(3,5))"
      ],
      "metadata": {
        "colab": {
          "base_uri": "https://localhost:8080/"
        },
        "id": "ndj_0y8eC783",
        "outputId": "45b2ccbf-af0f-497c-8acc-5915d2d8105e"
      },
      "execution_count": null,
      "outputs": [
        {
          "output_type": "stream",
          "name": "stdout",
          "text": [
            "30\n"
          ]
        }
      ]
    },
    {
      "cell_type": "markdown",
      "source": [
        "Section 5: Maps\n",
        "\n",
        "A python map takes a function and applies that function to each item in an iterable (like a list). That function could be a regular python function and it could be a lambda function. When you want to run a function on each item in a list, you can just use a map. It creates a new list while running that function per item. Note that a map returns a map object."
      ],
      "metadata": {
        "id": "vFzR-MfoE8DC"
      }
    },
    {
      "cell_type": "code",
      "source": [
        "numbers = [3,6,12,24]\n",
        "\n",
        "# Regular python function\n",
        "def minusone(a):\n",
        "  return a - 1\n",
        "\n",
        "result = map(minusone, numbers)\n",
        "print(list(result))\n",
        "\n",
        "# To do this as a lambda function:\n",
        "minusone = lambda p: p - 1\n",
        "lresult = map(minusone, numbers)\n",
        "print(list(lresult))\n",
        "\n",
        "# To do this directly as a lambda function:\n",
        "lresult = map(lambda p: p - 1, numbers)\n",
        "print(list(lresult))"
      ],
      "metadata": {
        "colab": {
          "base_uri": "https://localhost:8080/"
        },
        "id": "YIWGDWtVGHHl",
        "outputId": "6c48ba93-3168-499d-ba0f-2e8a1c700656"
      },
      "execution_count": null,
      "outputs": [
        {
          "output_type": "stream",
          "name": "stdout",
          "text": [
            "[2, 5, 11, 23]\n",
            "[2, 5, 11, 23]\n",
            "[2, 5, 11, 23]\n"
          ]
        }
      ]
    },
    {
      "cell_type": "markdown",
      "source": [
        "Section 6: Filter\n",
        "\n",
        "A python filter takes an iterable and returns a filter object without some of the items in the original iterable.\n",
        "\n",
        "A filter applies a function to each item in an iterable (like a list). That filtering function could be a regular python function and it could be a lambda function. It creates a new list while running that function per item. It can be used to filter a list based on a function."
      ],
      "metadata": {
        "id": "wbA20IwLa3rv"
      }
    },
    {
      "cell_type": "code",
      "source": [
        "numbers = [3,6,12,24]\n",
        "\n",
        "# Regular python function\n",
        "def divisiblebytwo(a):\n",
        "  return a % 2 == 0\n",
        "\n",
        "result = filter(divisiblebytwo, numbers)\n",
        "print(list(result))\n",
        "\n",
        "# To do this directly as a lambda function:\n",
        "lresult = filter(lambda a: a % 2 == 0, numbers)\n",
        "print(list(lresult))"
      ],
      "metadata": {
        "colab": {
          "base_uri": "https://localhost:8080/"
        },
        "id": "Qr6qKrTHbAmo",
        "outputId": "2f148bcd-3802-4624-adae-acee68fe1080"
      },
      "execution_count": null,
      "outputs": [
        {
          "output_type": "stream",
          "name": "stdout",
          "text": [
            "[6, 12, 24]\n",
            "[6, 12, 24]\n"
          ]
        }
      ]
    },
    {
      "cell_type": "markdown",
      "source": [
        "Section 7: Reduce\n",
        "\n",
        "Python reduce is used to calculate a value out of a sequence. For instance, it can calculate the sum of integers in a list of Tuples.\n",
        "\n"
      ],
      "metadata": {
        "id": "-B4yYEHSbBEL"
      }
    },
    {
      "cell_type": "code",
      "source": [
        "from functools import reduce\n",
        "\n",
        "mileages = [('Toyota', 28), ('Mercedes', 37)]\n",
        "\n",
        "total = reduce(lambda a, b: a[1] + b[1], mileages)\n",
        "print(total)\n",
        "\n",
        "# The long way of doing it\n",
        "total = 0\n",
        "for mileage in mileages:\n",
        "  total += mileage[1]\n",
        "\n",
        "print(total)"
      ],
      "metadata": {
        "colab": {
          "base_uri": "https://localhost:8080/"
        },
        "id": "ZsVrEBK8baMx",
        "outputId": "6800282e-e5ee-484f-a9f2-e45fb33872f3"
      },
      "execution_count": null,
      "outputs": [
        {
          "output_type": "stream",
          "name": "stdout",
          "text": [
            "65\n",
            "65\n"
          ]
        }
      ]
    },
    {
      "cell_type": "markdown",
      "source": [
        "Section 8: List Compressions\n",
        "\n",
        "Python list compressions can be used to make new lists in a more concise way."
      ],
      "metadata": {
        "id": "e_gQ8qlFbbMe"
      }
    },
    {
      "cell_type": "code",
      "source": [
        "numbers = [2,4,8,16]\n",
        "\n",
        "lresult = [a-1 for a in numbers]\n",
        "print(lresult)\n",
        "\n",
        "# The longer method\n",
        "lresult = []\n",
        "for i in numbers:\n",
        "  lresult.append(i-1)\n",
        "print(lresult)"
      ],
      "metadata": {
        "colab": {
          "base_uri": "https://localhost:8080/"
        },
        "id": "TPdsVT_Fbgk4",
        "outputId": "d33bc23c-27e3-4acb-96db-47d92db5cb80"
      },
      "execution_count": null,
      "outputs": [
        {
          "output_type": "stream",
          "name": "stdout",
          "text": [
            "[1, 3, 7, 15]\n",
            "[1, 3, 7, 15]\n"
          ]
        }
      ]
    }
  ]
}