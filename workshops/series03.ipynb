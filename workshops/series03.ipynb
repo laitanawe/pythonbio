{
  "nbformat": 4,
  "nbformat_minor": 0,
  "metadata": {
    "colab": {
      "provenance": []
    },
    "kernelspec": {
      "name": "python3",
      "display_name": "Python 3"
    },
    "language_info": {
      "name": "python"
    }
  },
  "cells": [
    {
      "cell_type": "markdown",
      "source": [
        "## Welcome to Python for Biologists\n",
        "\n",
        "## Todays agenda:\n",
        "\n",
        "- Loops\n",
        "- Tuples\n",
        "- Dictionaries\n",
        "- Dictionary Compressions\n",
        "- Sets\n",
        "- Lambda Functions\n",
        "- Maps\n",
        "- Filter\n",
        "- Reduce\n",
        "- List Compressions"
      ],
      "metadata": {
        "id": "NL7EzZ-HrJV2"
      }
    },
    {
      "cell_type": "markdown",
      "source": [
        "Section 1a: Loops\n",
        "\n",
        "   - while Loops are defined using the while keyword and the code inside the loop is executed in each iteration while the condition is true.\n",
        "   - for Loops\n",
        "\n",
        "Section 1b: Tuples\n",
        "\n",
        "   - Tuples allow you to create immutable groups of objects.\n",
        "   - Unlike lists, tuple items are enclosed in parenthesis.\n"
      ],
      "metadata": {
        "id": "XSW4GGH4qaAK"
      }
    },
    {
      "cell_type": "code",
      "source": [
        "counter = 10\n",
        "\n",
        "while counter >=1 :\n",
        "  print(\"The counter is still greater than one\")\n",
        "  print(\"The counter is still not yet zero or less\")\n",
        "  counter -= 1 # counter = counter - 1\n",
        "\n",
        "print(\"This is after the loop. The counter is now less than one\")\n",
        "\n",
        "even_numbers = [2,4,6,8]\n",
        "\n",
        "for number in even_numbers:\n",
        "  print(number)\n",
        "  print(\"Some string \" + str(number))\n",
        "\n",
        "# We can also use range (A range object is a sequence of integers. Indexing is zero-based. By default, counting starts from zero.)\n",
        "for r in range(10):\n",
        "  print(r)\n",
        "\n",
        "# We can also use three arguments in the range object (starting point, end number, steps)\n",
        "for r in range(0,10,2):\n",
        "  print(r)\n",
        "\n",
        "newlist = [\"Francis\",4,True,8.5]\n",
        "# The enumerate function can be used to get the index and the item\n",
        "for index,item in enumerate(newlist):\n",
        "  print(index,item)\n",
        "\n",
        "# Continue\n",
        "for index,item in enumerate(newlist):\n",
        "  if item == 4:\n",
        "    continue\n",
        "  print(index,item)\n",
        "\n",
        "newlist = [\"James\",4,True,8.5]\n",
        "# Break\n",
        "for index,item in enumerate(newlist):\n",
        "  if item == 4:\n",
        "    break\n",
        "  print(index,item)\n",
        "\n",
        "mytuple = (\"this\", \"room\", \"is\", \"Current\")\n",
        "print(mytuple[3])"
      ],
      "metadata": {
        "id": "c2drRn7SqaN7",
        "colab": {
          "base_uri": "https://localhost:8080/"
        },
        "outputId": "6c7cd5f5-8f24-4546-d9be-ec5f9fcf7083"
      },
      "execution_count": 2,
      "outputs": [
        {
          "output_type": "stream",
          "name": "stdout",
          "text": [
            "The counter is still greater than one\n",
            "The counter is still not yet zero or less\n",
            "The counter is still greater than one\n",
            "The counter is still not yet zero or less\n",
            "The counter is still greater than one\n",
            "The counter is still not yet zero or less\n",
            "The counter is still greater than one\n",
            "The counter is still not yet zero or less\n",
            "The counter is still greater than one\n",
            "The counter is still not yet zero or less\n",
            "The counter is still greater than one\n",
            "The counter is still not yet zero or less\n",
            "The counter is still greater than one\n",
            "The counter is still not yet zero or less\n",
            "The counter is still greater than one\n",
            "The counter is still not yet zero or less\n",
            "The counter is still greater than one\n",
            "The counter is still not yet zero or less\n",
            "The counter is still greater than one\n",
            "The counter is still not yet zero or less\n",
            "This is after the loop. The counter is now less than one\n",
            "2\n",
            "Some string 2\n",
            "4\n",
            "Some string 4\n",
            "6\n",
            "Some string 6\n",
            "8\n",
            "Some string 8\n",
            "0\n",
            "1\n",
            "2\n",
            "3\n",
            "4\n",
            "5\n",
            "6\n",
            "7\n",
            "8\n",
            "9\n",
            "0\n",
            "2\n",
            "4\n",
            "6\n",
            "8\n",
            "0 Francis\n",
            "1 4\n",
            "2 True\n",
            "3 8.5\n",
            "0 Francis\n",
            "2 True\n",
            "3 8.5\n",
            "0 James\n",
            "Current\n"
          ]
        }
      ]
    },
    {
      "cell_type": "markdown",
      "source": [
        "Section 2: Dictionaries\n",
        "\n",
        "   - Dictionaries in python are key-value pairs"
      ],
      "metadata": {
        "id": "V7IOLJ9uqm7K"
      }
    },
    {
      "cell_type": "code",
      "source": [
        "description = {\"fullname\": \"James Watson\", \"unit\": \"meters\", \"height\": 1.75}\n",
        "print(description[\"fullname\"])\n",
        "print(\"My approximate height is \" + str(description[\"height\"]))\n",
        "\n",
        "mydict = {'fname': 'Rosalind', 'lname': 'Franklin', 'color': 'blue', 'fruit': 'pineapple', 'height': 5.8}\n",
        "#print(mydict['color'])\n",
        "#Normally, you should iterate over the keys of a dictionary.\n",
        "#This means that if you put a dictionary directly into a for loop, Python will automatically get an iterator over its keys:\n",
        "\n",
        "for key in mydict:\n",
        "   print(key)\n",
        "\n",
        "for key in mydict:\n",
        "   print(mydict[key])\n",
        "\n",
        "#You can process the keys and values of any dictionary by using\n",
        "# the indexing operator [] with the dictionary and its keys to get access to the values:\n",
        "\n",
        "for key in mydict:\n",
        "   print(key, '->', mydict[key])\n",
        "\n",
        "newdict = {\"drinks\": [\"mango juice\", \"guava juice\", \"orange juice\"], \"meat\": \"chicken\"}\n",
        "print(newdict[\"drinks\"][0])"
      ],
      "metadata": {
        "id": "EO4649tQq1YM",
        "colab": {
          "base_uri": "https://localhost:8080/"
        },
        "outputId": "5437e829-4b49-4f69-82f7-bf1c1f92468d"
      },
      "execution_count": 4,
      "outputs": [
        {
          "output_type": "stream",
          "name": "stdout",
          "text": [
            "James Watson\n",
            "My approximate height is 1.75\n",
            "fname\n",
            "lname\n",
            "color\n",
            "fruit\n",
            "height\n",
            "Rosalind\n",
            "Franklin\n",
            "blue\n",
            "pineapple\n",
            "5.8\n",
            "fname -> Rosalind\n",
            "lname -> Franklin\n",
            "color -> blue\n",
            "fruit -> pineapple\n",
            "height -> 5.8\n",
            "mango juice\n"
          ]
        }
      ]
    },
    {
      "cell_type": "markdown",
      "source": [
        "\n",
        "Section 3: Dictionary Comprehensions\n",
        "\n",
        "   - Python allows dictionary comprehensions. A dictionary comprehension takes the form {key: value for (key, value) in iterable}"
      ],
      "metadata": {
        "id": "Dfe0gbIjK-K2"
      }
    },
    {
      "cell_type": "code",
      "source": [
        "# Python code to demonstrate dictionary\n",
        "# We are creating a dictionary from a list of odd integers from 1 to 9\n",
        "myintDict = {x: x**2 for x in [1,3,5,7,9]}\n",
        "print (myintDict)\n",
        "\n",
        "# We are creating a dictionary from a list of string characters from the word 'childrens'\n",
        "mysDict1 = {x.upper(): x*3 for x in 'childrens'}\n",
        "print (mysDict1)\n",
        "\n",
        "# Here is an example that is different\n",
        "# Each item in the created dictionary is unique\n",
        "mysDict1 = {x.upper(): x*3 for x in 'data science'}\n",
        "print (mysDict1)\n",
        "\n",
        "# Dictionary comprehension using if statements.\n",
        "# Include an item in the dictionary if x^4 is not an even number\n",
        "# Note that we are moving in steps of 3\n",
        "mynewdict = {x: x**4 for x in range(1, 20, 3) if x**4 % 2 != 0}\n",
        "print(mynewdict)\n"
      ],
      "metadata": {
        "colab": {
          "base_uri": "https://localhost:8080/"
        },
        "id": "oi1YLW_gK_LY",
        "outputId": "2237d8d3-0d5e-4555-9e68-3e3dd2b44c74"
      },
      "execution_count": null,
      "outputs": [
        {
          "output_type": "stream",
          "name": "stdout",
          "text": [
            "{1: 1, 7: 2401, 13: 28561, 19: 130321}\n"
          ]
        }
      ]
    },
    {
      "cell_type": "markdown",
      "source": [
        "\n",
        "Section 4: Sets\n",
        "\n",
        "   - Sets are unordered mutable tuples bold text\n",
        "   - Sets don't have key-value pairs but they are also enclosed in curly brackets { }\n",
        "   - A set can only have one of each item in the set. Each item is unique in value.\n"
      ],
      "metadata": {
        "id": "P8uDCGzoq5zY"
      }
    },
    {
      "cell_type": "code",
      "source": [
        "set1 = {\"James\", \"Watson\"}\n",
        "set2 = {\"James\", \"Watson\", \"Rosalind\"}\n",
        "# Intersection\n",
        "print(set1 & set2)\n",
        "# Union\n",
        "print(set1 | set2)\n",
        "# Difference\n",
        "set3=set2-set1\n",
        "print(set3)\n",
        "# Superset\n",
        "set1 > set2\n",
        "# Subset\n",
        "set1 < set2\n",
        "# Turn a set into a list\n",
        "print(list(set1))"
      ],
      "metadata": {
        "id": "ZeyCTnw0q6fC",
        "colab": {
          "base_uri": "https://localhost:8080/"
        },
        "outputId": "0ca90389-df56-4717-ed64-b57d351323a8"
      },
      "execution_count": 6,
      "outputs": [
        {
          "output_type": "stream",
          "name": "stdout",
          "text": [
            "{'James', 'Watson'}\n",
            "{'James', 'Watson', 'Rosalind'}\n",
            "{'Rosalind'}\n",
            "['James', 'Watson']\n"
          ]
        }
      ]
    },
    {
      "cell_type": "markdown",
      "source": [
        "Section 5: Lambda Functions\n",
        "\n",
        "Lambda Functions are small functions with no name but a single expression in their body. Python lambda can be used with multiple arguments and these arguments are used in evaluating an expression to return a single value."
      ],
      "metadata": {
        "id": "x43ZnexfC9BT"
      }
    },
    {
      "cell_type": "code",
      "source": [
        "# Create a lambda function that takes the product of two variables and multiples it by 2\n",
        "duplicate = lambda p,q : p * q * 2\n",
        "print(duplicate(3,5))\n",
        "\n",
        "quadratic = lambda x,y : x**2 + x*y + y**2\n",
        "print(quadratic(6,8))"
      ],
      "metadata": {
        "colab": {
          "base_uri": "https://localhost:8080/"
        },
        "id": "ndj_0y8eC783",
        "outputId": "e1ebbef3-eeb7-4925-d7c4-ff37e7057b37"
      },
      "execution_count": null,
      "outputs": [
        {
          "output_type": "stream",
          "name": "stdout",
          "text": [
            "30\n",
            "148\n"
          ]
        }
      ]
    },
    {
      "cell_type": "markdown",
      "source": [
        "Section 6: Maps\n",
        "\n",
        "A python map takes a function and applies that function to each item in an iterable (like a list). That function could be a regular python function and it could be a lambda function. When you want to run a function on each item in a list, you can just use a map. It creates a new list while running that function per item. Note that a map returns a map object."
      ],
      "metadata": {
        "id": "vFzR-MfoE8DC"
      }
    },
    {
      "cell_type": "code",
      "source": [
        "numbers = [3,6,12,24]\n",
        "\n",
        "# Regular python function\n",
        "#def minusone(a):\n",
        "#  return a - 1\n",
        "#minusone(3)\n",
        "\n",
        "#result = map(minusone, numbers)\n",
        "#print(list(result))\n",
        "\n",
        "# To do this as a lambda function:\n",
        "minusone = lambda p: p - 1\n",
        "lresult = map(minusone, numbers)\n",
        "print(list(lresult))\n",
        "\n",
        "# To do this directly as a lambda function:\n",
        "lresult = map(lambda p: p - 1, numbers)\n",
        "print(list(lresult))"
      ],
      "metadata": {
        "colab": {
          "base_uri": "https://localhost:8080/"
        },
        "id": "YIWGDWtVGHHl",
        "outputId": "4c36ecf1-86b6-4e10-c4fe-03e317824a3d"
      },
      "execution_count": null,
      "outputs": [
        {
          "output_type": "stream",
          "name": "stdout",
          "text": [
            "[2, 5, 11, 23]\n"
          ]
        }
      ]
    },
    {
      "cell_type": "markdown",
      "source": [
        "Section 7: Filter\n",
        "\n",
        "A python filter takes an iterable and returns a filter object without some of the items in the original iterable.\n",
        "\n",
        "A filter applies a function to each item in an iterable (like a list). That filtering function could be a regular python function and it could be a lambda function. It creates a new list while running that function per item. It can be used to filter a list based on a function."
      ],
      "metadata": {
        "id": "wbA20IwLa3rv"
      }
    },
    {
      "cell_type": "code",
      "source": [
        "numbers = [3,6,12,24]\n",
        "\n",
        "# Regular python function\n",
        "#def divisiblebytwo(a):\n",
        "#  return a % 2 == 0\n",
        "\n",
        "def divisiblebytwo(a):\n",
        "  return True if a % 2 == 0 else False\n",
        "\n",
        "result = filter(divisiblebytwo, numbers)\n",
        "print(list(result))\n",
        "\n",
        "divby2 = lambda a: a % 2 == 0\n",
        "\n",
        "# To do this directly as a lambda function:\n",
        "lresult = filter(divby2, numbers)\n",
        "print(list(lresult))"
      ],
      "metadata": {
        "colab": {
          "base_uri": "https://localhost:8080/"
        },
        "id": "Qr6qKrTHbAmo",
        "outputId": "3726f285-4d69-489c-a44f-a1eb2f4be17b"
      },
      "execution_count": null,
      "outputs": [
        {
          "output_type": "stream",
          "name": "stdout",
          "text": [
            "[6, 12, 24]\n"
          ]
        }
      ]
    },
    {
      "cell_type": "markdown",
      "source": [
        "Section 8: Reduce\n",
        "\n",
        "Python reduce is used to calculate a value out of a sequence. For instance, it can calculate the sum of integers in a list of Tuples.\n",
        "\n"
      ],
      "metadata": {
        "id": "-B4yYEHSbBEL"
      }
    },
    {
      "cell_type": "code",
      "source": [
        "from functools import reduce\n",
        "\n",
        "mileages = [('Toyota', 28), ('Mercedes', 37)]\n",
        "\n",
        "total = reduce(lambda a, b: a[1] + b[1], mileages)\n",
        "print(\"Car Total: \" + str(total))\n",
        "\n",
        "# The long way of doing this is:\n",
        "total = 0\n",
        "for mileage in mileages:\n",
        "  total += mileage[1]\n",
        "\n",
        "print(\"The sum of the car brands is \" + str(total))"
      ],
      "metadata": {
        "colab": {
          "base_uri": "https://localhost:8080/"
        },
        "id": "ZsVrEBK8baMx",
        "outputId": "2b7fc6fb-e5db-4a8b-ac6e-e3e7b61fcc48"
      },
      "execution_count": null,
      "outputs": [
        {
          "output_type": "stream",
          "name": "stdout",
          "text": [
            "Car Total: 65\n"
          ]
        }
      ]
    },
    {
      "cell_type": "markdown",
      "source": [
        "Section 9: List Compressions\n",
        "\n",
        "Python list compressions can be used to make new lists in a more concise way."
      ],
      "metadata": {
        "id": "e_gQ8qlFbbMe"
      }
    },
    {
      "cell_type": "code",
      "source": [
        "numbers = [2,4,8,16]\n",
        "\n",
        "compression = lambda x : x - 1\n",
        "\n",
        "print(list(map(compression, numbers)))\n",
        "\n",
        "lresult = [a-1 for a in numbers]\n",
        "print(lresult)\n",
        "\n",
        "# The longer method\n",
        "lresult = []\n",
        "for i in numbers:\n",
        "  lresult.append(i-1)\n",
        "print(lresult)\n",
        "\n",
        "listofchars=[\"Android\", True, 26, 3.8]\n",
        "\n",
        "print(listofchars[0], listofchars[1], listofchars[2],  \"Marwa\", listofchars[3])\n",
        "\n",
        "print(listofchars[0] + str(listofchars[1]) + str(listofchars[2]) + str(listofchars[3]))\n",
        "\n",
        "print(listofchars[0] + \" \" + str(listofchars[1]) + \" \" + str(listofchars[2]) + \" \" + str(listofchars[3]))\n",
        "\n",
        "print(f\"{numbers[0]}\")"
      ],
      "metadata": {
        "colab": {
          "base_uri": "https://localhost:8080/"
        },
        "id": "TPdsVT_Fbgk4",
        "outputId": "0fe12026-a9a1-46f0-a3a2-0b15d76a775e"
      },
      "execution_count": null,
      "outputs": [
        {
          "output_type": "stream",
          "name": "stdout",
          "text": [
            "Android True 26 Marwa 3.8\n"
          ]
        }
      ]
    }
  ]
}